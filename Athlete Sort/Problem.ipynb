{
 "cells": [
  {
   "attachments": {},
   "cell_type": "markdown",
   "metadata": {},
   "source": [
    " # **[Athlete Sort](https://www.hackerrank.com/contests/pythonist/challenges/python-sort-sort/problem)** \n",
    "  <input type=\"hidden\" id=\"naderly\" name=\"Writen by: Ahmed Nader\" value=\"https://github.com/naderly\">\n"
   ]
  },
  {
   "attachments": {},
   "cell_type": "markdown",
   "metadata": {},
   "source": [
    "You are given a spreadsheet that contains a list of `N` athletes and their details (such as age, height, weight and so on). You are required to sort the data based on the `k`th attribute and print the final resulting table. Follow the example given below for better understanding."
   ]
  },
  {
   "attachments": {},
   "cell_type": "markdown",
   "metadata": {},
   "source": [
    "<!-- <img src=\"./images/table.png\" alt=\"drawing\" width=\"500\" align=\"middle\"/> -->\n",
    "<p align=\"center\">\n",
    "  <img src=\"./images/table.png\" />\n",
    "</p>"
   ]
  },
  {
   "attachments": {},
   "cell_type": "markdown",
   "metadata": {},
   "source": [
    "Note that `K` is indexed from 0 to `M-1`, where `M` is the number of attributes. <br>\n",
    "\n",
    "Note: If two attributes are the same for different rows, for example, if two atheletes are of the same age, print the row that appeared first in the input."
   ]
  },
  {
   "attachments": {},
   "cell_type": "markdown",
   "metadata": {},
   "source": [
    "## Input Format"
   ]
  },
  {
   "attachments": {},
   "cell_type": "markdown",
   "metadata": {},
   "source": [
    "The first line contains `N` and `M` separated by a space.<br>\n",
    "The next `N` lines each contain `M` elements.<br>\n",
    "The last line contains `K`."
   ]
  },
  {
   "attachments": {},
   "cell_type": "markdown",
   "metadata": {},
   "source": [
    "## Constraints"
   ]
  },
  {
   "attachments": {},
   "cell_type": "markdown",
   "metadata": {},
   "source": [
    "`1 ≤ N` ; `M ≤ 100` <br>\n",
    "`0 ≤ K < M` <br>\n",
    "`Each element ≤ 100` "
   ]
  },
  {
   "attachments": {},
   "cell_type": "markdown",
   "metadata": {},
   "source": [
    "## Output Format"
   ]
  },
  {
   "attachments": {},
   "cell_type": "markdown",
   "metadata": {},
   "source": [
    "Print the `N` lines of the sorted table. Each line should contain the space separated elements. Check the sample below for clarity."
   ]
  },
  {
   "attachments": {},
   "cell_type": "markdown",
   "metadata": {},
   "source": [
    "## Sample Input 0"
   ]
  },
  {
   "cell_type": "code",
   "execution_count": null,
   "metadata": {},
   "outputs": [],
   "source": [
    "5 3\n",
    "10 2 5\n",
    "7 1 0\n",
    "9 9 9\n",
    "1 23 12\n",
    "6 5 9\n",
    "1"
   ]
  },
  {
   "attachments": {},
   "cell_type": "markdown",
   "metadata": {},
   "source": [
    "## Sample Output 0"
   ]
  },
  {
   "cell_type": "code",
   "execution_count": null,
   "metadata": {},
   "outputs": [],
   "source": [
    "7 1 0\n",
    "10 2 5\n",
    "6 5 9\n",
    "9 9 9\n",
    "1 23 12"
   ]
  },
  {
   "attachments": {},
   "cell_type": "markdown",
   "metadata": {},
   "source": [
    "## Explanation 0"
   ]
  },
  {
   "attachments": {},
   "cell_type": "markdown",
   "metadata": {},
   "source": [
    "The details are sorted based on the second attribute, since `K` is zero-indexed."
   ]
  }
 ],
 "metadata": {
  "kernelspec": {
   "display_name": "Python 3",
   "language": "python",
   "name": "python3"
  },
  "language_info": {
   "name": "python",
   "version": "3.10.2 (tags/v3.10.2:a58ebcc, Jan 17 2022, 14:12:15) [MSC v.1929 64 bit (AMD64)]"
  },
  "orig_nbformat": 4,
  "vscode": {
   "interpreter": {
    "hash": "359f22d355b4001c24793eb4ff16e65d27e628540340c4ab6bdc9ae5f349be45"
   }
  }
 },
 "nbformat": 4,
 "nbformat_minor": 2
}
