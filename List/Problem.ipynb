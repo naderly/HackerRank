{
 "cells": [
  {
   "attachments": {},
   "cell_type": "markdown",
   "metadata": {},
   "source": [
    "# **[List](https://www.hackerrank.com/challenges/python-lists/problem?isFullScreen=true)**\n",
    "\n",
    "  <input type=\"hidden\" id=\"naderly\" name=\"Writen by: Ahmed Nader\" value=\"https://github.com/naderly\">"
   ]
  },
  {
   "attachments": {},
   "cell_type": "markdown",
   "metadata": {},
   "source": [
    "Consider a list (list = []). You can perform the following commands:\n",
    "\n",
    "- `insert` *`i`* *`e`* : Insert integer *`e`* at position *`i`* . <br>\n",
    "- `print` : Print the list. <br>\n",
    "- `remove` *`e`* : Delete the first occurrence of integer *`e`* . <br>\n",
    "- `append` *`e`* : Insert integer *`e`* at the end of the list. <br>\n",
    "- `sort` : Sort the list. <br>\n",
    "- `pop` : Pop the last element from the list. <br>\n",
    "- `reverse` : Reverse the list.<br> "
   ]
  },
  {
   "attachments": {},
   "cell_type": "markdown",
   "metadata": {},
   "source": [
    "Initialize your list and read in the value of *`n`* followed by *`n`* lines of commands where each command will be of the `7` types listed above. Iterate through each command in order and perform the corresponding operation on your list."
   ]
  },
  {
   "attachments": {},
   "cell_type": "markdown",
   "metadata": {},
   "source": [
    "## Example"
   ]
  },
  {
   "attachments": {},
   "cell_type": "markdown",
   "metadata": {},
   "source": [
    "`N = 4` <br>\n",
    "`append 1` <br>\n",
    "`append 2` <br>\n",
    "`insert 3 1` <br>\n",
    "`print`"
   ]
  },
  {
   "attachments": {},
   "cell_type": "markdown",
   "metadata": {},
   "source": [
    "> append 1 : Append 1 to the list, arr=[1]. <br>\n",
    "> append 2 : Append 2 to the list, arr=[1,2]. <br>\n",
    "> insert 3 1 : Insert 3 at index 1, arr=[1,3,2].<br>\n",
    "> print: Print the array."
   ]
  },
  {
   "attachments": {},
   "cell_type": "markdown",
   "metadata": {},
   "source": [
    "### Output"
   ]
  },
  {
   "cell_type": "code",
   "execution_count": null,
   "metadata": {},
   "outputs": [],
   "source": [
    "[1, 3, 2]"
   ]
  },
  {
   "attachments": {},
   "cell_type": "markdown",
   "metadata": {},
   "source": [
    "## Input Format"
   ]
  },
  {
   "attachments": {},
   "cell_type": "markdown",
   "metadata": {},
   "source": [
    "The first line contains an integer, *`n`* , denoting the number of commands. <br>\n",
    "Each line *`i`* of the *`n`* subsequent lines contains one of the commands described above."
   ]
  },
  {
   "attachments": {},
   "cell_type": "markdown",
   "metadata": {},
   "source": [
    "## Constraints"
   ]
  },
  {
   "attachments": {},
   "cell_type": "markdown",
   "metadata": {},
   "source": [
    "> The elements added to the list must be integers."
   ]
  },
  {
   "attachments": {},
   "cell_type": "markdown",
   "metadata": {},
   "source": [
    "## Output Format"
   ]
  },
  {
   "attachments": {},
   "cell_type": "markdown",
   "metadata": {},
   "source": [
    "For each command of type print, print the list on a new line."
   ]
  },
  {
   "attachments": {},
   "cell_type": "markdown",
   "metadata": {},
   "source": [
    "## Sample Input 0"
   ]
  },
  {
   "cell_type": "code",
   "execution_count": null,
   "metadata": {},
   "outputs": [],
   "source": [
    "12\n",
    "insert 0 5\n",
    "insert 1 10\n",
    "insert 0 6\n",
    "print\n",
    "remove 6\n",
    "append 9\n",
    "append 1\n",
    "sort\n",
    "print\n",
    "pop\n",
    "reverse\n",
    "print"
   ]
  },
  {
   "attachments": {},
   "cell_type": "markdown",
   "metadata": {},
   "source": [
    "## Sample Output 0"
   ]
  },
  {
   "cell_type": "code",
   "execution_count": null,
   "metadata": {},
   "outputs": [],
   "source": [
    "[6, 5, 10]\n",
    "[1, 5, 9, 10]\n",
    "[9, 5, 1]"
   ]
  }
 ],
 "metadata": {
  "kernelspec": {
   "display_name": "Python 3",
   "language": "python",
   "name": "python3"
  },
  "language_info": {
   "name": "python",
   "version": "3.10.2 (tags/v3.10.2:a58ebcc, Jan 17 2022, 14:12:15) [MSC v.1929 64 bit (AMD64)]"
  },
  "orig_nbformat": 4,
  "vscode": {
   "interpreter": {
    "hash": "359f22d355b4001c24793eb4ff16e65d27e628540340c4ab6bdc9ae5f349be45"
   }
  }
 },
 "nbformat": 4,
 "nbformat_minor": 2
}
