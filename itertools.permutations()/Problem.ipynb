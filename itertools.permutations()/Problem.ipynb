{
 "cells": [
  {
   "attachments": {},
   "cell_type": "markdown",
   "metadata": {},
   "source": [
    " # **[itertools.permutations()](https://www.hackerrank.com/challenges/finding-the-percentage/problem?isFullScreen=true)** \n",
    "  <input type=\"hidden\" id=\"naderly\" name=\"Writen by: Ahmed Nader\" value=\"https://github.com/naderly\">\n"
   ]
  },
  {
   "attachments": {},
   "cell_type": "markdown",
   "metadata": {},
   "source": [
    "This tool returns successive `r` length permutations of elements in an iterable. <br>\n",
    "If `r` is not specified or is None, then `r` defaults to the length of the iterable, and all possible full length permutations are generated."
   ]
  },
  {
   "attachments": {},
   "cell_type": "markdown",
   "metadata": {},
   "source": [
    "Permutations are printed in a lexicographic sorted order. So, if the input iterable is sorted, the permutation tuples will be produced in a sorted order."
   ]
  },
  {
   "attachments": {},
   "cell_type": "markdown",
   "metadata": {},
   "source": [
    "## Sample Code"
   ]
  },
  {
   "cell_type": "code",
   "execution_count": null,
   "metadata": {},
   "outputs": [],
   "source": [
    ">>> from itertools import permutations\n",
    ">>> print (permutations(['1','2','3']))\n",
    "<itertools.permutations object at 0x02A45210>\n",
    ">>>\n",
    ">>> print (list(permutations(['1','2','3'])))\n",
    "[('1', '2', '3'), ('1', '3', '2'), ('2', '1', '3'), ('2', '3', '1'), ('3', '1', '2'), ('3', '2', '1')]\n",
    ">>>\n",
    ">>> print (list(permutations(['1','2','3'],2)))\n",
    "[('1', '2'), ('1', '3'), ('2', '1'), ('2', '3'), ('3', '1'), ('3', '2')]\n",
    ">>>\n",
    ">>> print (list(permutations('abc',3)))\n",
    "[('a', 'b', 'c'), ('a', 'c', 'b'), ('b', 'a', 'c'), ('b', 'c', 'a'), ('c', 'a', 'b'), ('c', 'b', 'a')]"
   ]
  },
  {
   "attachments": {},
   "cell_type": "markdown",
   "metadata": {},
   "source": [
    "## Task"
   ]
  },
  {
   "attachments": {},
   "cell_type": "markdown",
   "metadata": {},
   "source": [
    "You are given a string `S`.\n",
    "Your task is to print all possible permutations of size `k` of the string in lexicographic sorted order."
   ]
  },
  {
   "attachments": {},
   "cell_type": "markdown",
   "metadata": {},
   "source": [
    "## Input Format"
   ]
  },
  {
   "attachments": {},
   "cell_type": "markdown",
   "metadata": {},
   "source": [
    "A single line containing the space separated string `S` and the integer value `k` ."
   ]
  },
  {
   "attachments": {},
   "cell_type": "markdown",
   "metadata": {},
   "source": [
    "## Constraints"
   ]
  },
  {
   "attachments": {},
   "cell_type": "markdown",
   "metadata": {},
   "source": [
    "0 < k ≤ len(S) <br>\n",
    "The string contains only UPPERCASE characters."
   ]
  },
  {
   "attachments": {},
   "cell_type": "markdown",
   "metadata": {},
   "source": [
    "## Output Format"
   ]
  },
  {
   "attachments": {},
   "cell_type": "markdown",
   "metadata": {},
   "source": [
    "Print the permutations of the string `S` on separate lines."
   ]
  },
  {
   "attachments": {},
   "cell_type": "markdown",
   "metadata": {},
   "source": [
    "## Sample Input"
   ]
  },
  {
   "cell_type": "code",
   "execution_count": null,
   "metadata": {},
   "outputs": [],
   "source": [
    "HACK 2"
   ]
  },
  {
   "attachments": {},
   "cell_type": "markdown",
   "metadata": {},
   "source": [
    "## Sample Output"
   ]
  },
  {
   "cell_type": "code",
   "execution_count": null,
   "metadata": {},
   "outputs": [],
   "source": [
    "AC\n",
    "AH\n",
    "AK\n",
    "CA\n",
    "CH\n",
    "CK\n",
    "HA\n",
    "HC\n",
    "HK\n",
    "KA\n",
    "KC\n",
    "KH"
   ]
  },
  {
   "attachments": {},
   "cell_type": "markdown",
   "metadata": {},
   "source": [
    "## Explanation"
   ]
  },
  {
   "attachments": {},
   "cell_type": "markdown",
   "metadata": {},
   "source": [
    "All possible size `2` permutations of the string **\"HACK\"** are printed in lexicographic sorted order."
   ]
  }
 ],
 "metadata": {
  "kernelspec": {
   "display_name": "Python 3",
   "language": "python",
   "name": "python3"
  },
  "language_info": {
   "name": "python",
   "version": "3.10.2 (tags/v3.10.2:a58ebcc, Jan 17 2022, 14:12:15) [MSC v.1929 64 bit (AMD64)]"
  },
  "orig_nbformat": 4,
  "vscode": {
   "interpreter": {
    "hash": "359f22d355b4001c24793eb4ff16e65d27e628540340c4ab6bdc9ae5f349be45"
   }
  }
 },
 "nbformat": 4,
 "nbformat_minor": 2
}
